{
 "cells": [
  {
   "cell_type": "code",
   "execution_count": null,
   "metadata": {},
   "outputs": [],
   "source": [
    "import pandas as pd\n",
    "import numpy as np\n",
    "import WRIC_preprocessing as wric\n",
    "import os\n",
    "import glob\n",
    "import re\n",
    "import matplotlib.pyplot as plt\n",
    "from collections import defaultdict\n",
    "pd.set_option(\"display.max_rows\", None)"
   ]
  },
  {
   "cell_type": "code",
   "execution_count": null,
   "metadata": {},
   "outputs": [],
   "source": [
    "\n"
   ]
  },
  {
   "cell_type": "code",
   "execution_count": null,
   "metadata": {},
   "outputs": [],
   "source": [
    "display(df.head())"
   ]
  },
  {
   "cell_type": "code",
   "execution_count": null,
   "metadata": {},
   "outputs": [],
   "source": [
    "# Path to all cgm files\n",
    "filepath = \"D:/Simon_CIRCLE/Temperatur_bodycap_csv.csv\"\n",
    "print(filepath)\n",
    "\n",
    "df = pd.read_csv(filepath, delimiter=\";\")\n",
    "excluded_columns = ['Number', 'Hour', '1_red']\n",
    "filtered_df = df.drop(columns=excluded_columns)\n",
    "filtered_df = filtered_df.applymap(\n",
    "    lambda x: float(x.replace(',', '.')) if isinstance(x, str) else x\n",
    ")\n",
    "x_data = filtered_df['Minutes']\n",
    "filtered_df = filtered_df.drop(columns=[\"Minutes\"])"
   ]
  },
  {
   "cell_type": "code",
   "execution_count": null,
   "metadata": {},
   "outputs": [],
   "source": [
    "\n",
    "fig, ax = plt.subplots(figsize=(12, 6))\n",
    "lines = []\n",
    "# Iterate over columns in the filtered DataFrame\n",
    "for column_name, column_data in filtered_df.items():\n",
    "    valid_indices = column_data.notna() & x_data.notna()\n",
    "    cleaned_x_data = x_data[valid_indices]\n",
    "    cleaned_column_data = column_data[valid_indices]\n",
    "    line, = ax.plot(np.array(cleaned_x_data), np.array(cleaned_column_data), label = column_name) #, label = column_name\n",
    "    lines.append(line)\n",
    "        \n",
    "ax.set_xlabel(\"Relative Time (min)\")\n",
    "ax.set_ylim(34, 39)\n",
    "ax.set_ylabel(\"Temperature (C)\")\n",
    "ax.set_title(\"Temperature Over Time for all participants (n=10) missing treat= 1 for participant 1\")\n",
    "\n",
    "ax.axvspan(0, 450, color='yellow', alpha=0.3)  # Sleep 1 (23:00-6:30)\n",
    "ax.axvspan(480, 510, color='green', alpha=0.3)  # RER 1 (07:00-07:30)\n",
    "ax.axvspan(660, 680, color='blue', alpha=0.3)  # Step 1 (10:00-10:20)\n",
    "ax.axvspan(1200, 1230, color='green', alpha=0.3)  # RER 2 (19:00-19:30)\n",
    "ax.axvspan(1380, 1400, color='blue', alpha=0.3)  # Step 2 (22:00-22:20)\n",
    "ax.axvspan(1440, 1955, color='yellow', alpha=0.3)  # Sleep 2 (23:00-6:30)\n",
    "\n",
    "activity_label = plt.Line2D([0], [0], color='blue', lw=6, alpha=0.3, label=\"Activity\")\n",
    "rer_label = plt.Line2D([0], [0], color='green', lw=6, alpha=0.3, label=\"RER\")\n",
    "sleep_label = plt.Line2D([0], [0], color='yellow', lw=6, alpha=0.3, label=\"Sleep\")\n",
    "\n",
    "ax.legend(handles=[activity_label, rer_label, sleep_label] + lines, title=\"Legend\")\n",
    "\n",
    "plt.tight_layout()\n",
    "plt.show()"
   ]
  },
  {
   "cell_type": "code",
   "execution_count": null,
   "metadata": {},
   "outputs": [],
   "source": [
    "fig, ax = plt.subplots(figsize=(12, 6))\n",
    "lines = []\n",
    "# Iterate over columns in the filtered DataFrame\n",
    "for column_name, column_data in filtered_df.items():\n",
    "    valid_indices = column_data.notna() & x_data.notna()\n",
    "    cleaned_x_data = x_data[valid_indices]\n",
    "    cleaned_column_data = column_data[valid_indices]\n",
    "    if \"red\" in column_name:\n",
    "        line, = ax.plot(np.array(cleaned_x_data), np.array(cleaned_column_data), 'r', label = column_name) #, label = column_name\n",
    "    else:\n",
    "        line, = ax.plot(np.array(cleaned_x_data), np.array(cleaned_column_data), 'b', label = column_name) #, label = column_name\n",
    "    lines.append(line)\n",
    "        \n",
    "ax.set_xlabel(\"Relative Time (min)\")\n",
    "ax.set_ylim(34, 39)\n",
    "ax.set_ylabel(\"Temperature (C)\")\n",
    "ax.set_title(\"Temperature Over Time for all participants (n=10) missing treat= 1 for participant 1\")\n",
    "\n",
    "ax.axvspan(0, 450, color='yellow', alpha=0.3)  # Sleep 1 (23:00-6:30)\n",
    "ax.axvspan(480, 510, color='green', alpha=0.3)  # RER 1 (07:00-07:30)\n",
    "ax.axvspan(660, 680, color='blue', alpha=0.3)  # Step 1 (10:00-10:20)\n",
    "ax.axvspan(1200, 1230, color='green', alpha=0.3)  # RER 2 (19:00-19:30)\n",
    "ax.axvspan(1380, 1400, color='blue', alpha=0.3)  # Step 2 (22:00-22:20)\n",
    "ax.axvspan(1440, 1955, color='yellow', alpha=0.3)  # Sleep 2 (23:00-6:30)\n",
    "\n",
    "activity_label = plt.Line2D([0], [0], color='blue', lw=6, alpha=0.3, label=\"Activity\")\n",
    "rer_label = plt.Line2D([0], [0], color='green', lw=6, alpha=0.3, label=\"RER\")\n",
    "sleep_label = plt.Line2D([0], [0], color='yellow', lw=6, alpha=0.3, label=\"Sleep\")\n",
    "treatment_label = plt.Line2D([0], [0], color='blue', lw=2, label=\"Treatment\")\n",
    "placebo_label = plt.Line2D([0], [0], color='red', lw=2, label=\"Placebo\")\n",
    "\n",
    "ax.legend(handles=[activity_label, rer_label, sleep_label,  treatment_label, placebo_label], title=\"Legend\")\n",
    "\n",
    "plt.tight_layout()\n",
    "plt.show()"
   ]
  },
  {
   "cell_type": "code",
   "execution_count": null,
   "metadata": {},
   "outputs": [],
   "source": []
  }
 ],
 "metadata": {
  "kernelspec": {
   "display_name": "Python 3",
   "language": "python",
   "name": "python3"
  },
  "language_info": {
   "codemirror_mode": {
    "name": "ipython",
    "version": 3
   },
   "file_extension": ".py",
   "mimetype": "text/x-python",
   "name": "python",
   "nbconvert_exporter": "python",
   "pygments_lexer": "ipython3",
   "version": "3.12.6"
  }
 },
 "nbformat": 4,
 "nbformat_minor": 2
}
